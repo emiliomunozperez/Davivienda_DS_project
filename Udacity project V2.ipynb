{
 "cells": [
  {
   "cell_type": "markdown",
   "id": "02777809",
   "metadata": {},
   "source": [
    "## Section 1: Business Understanding"
   ]
  },
  {
   "cell_type": "markdown",
   "id": "bd8be62b",
   "metadata": {},
   "source": [
    "#### Brief description and business questions"
   ]
  },
  {
   "cell_type": "markdown",
   "id": "99f77742",
   "metadata": {},
   "source": [
    "One of the components that is needed in order to forecast the effect of a campaign is the average email open rate. Since everything it’s as hard as it can be, there are many clients that doesn’t have this metric in our data bases. Therefore the object of this project is to build a linear regression model based on what’s taught in the course to try and forecast this metric for clients that doesn’t have it. The business questions needed to complete the project are:\n",
    "\n",
    "The questions answered in notebook are the following:\n",
    "\n",
    "    1. Which are the most relevant client’s traits and how can they be group to get a better understanding of them? \n",
    "    2. How does the open rate of emails behave in young clients, 18 to 30 years old?\n",
    "    3. Is a multivariate regression model based on the variables identified an acceptable model to predict open rate?\n",
    " "
   ]
  },
  {
   "cell_type": "markdown",
   "id": "4485b18f",
   "metadata": {},
   "source": [
    "#### Question 1: Which are the most relevant client’s traits and how can they be group to get a better understanding of them? "
   ]
  },
  {
   "cell_type": "markdown",
   "id": "d91984c7",
   "metadata": {},
   "source": [
    "Question number one is not code related, instead is based in my experience as a marketeer and my aproach is the following:\n",
    "\n",
    "1. Which are the most relevant client’s traits and how can they be group to get a better understanding of them?\n",
    "\n",
    "In this project I used different groups of features that could describe our client more holistically and extracted the data based on this approach. The groups and variables I used are the following:\n",
    "\n",
    "Demographic: Gender, age and income.\n",
    "Psychographic: transactional forecasted affinities.\n",
    "Business related: savings and investments products.\n",
    "Behavioral: Digital affinity, saving behavior, spending behavior and credit behavior, credit score.\n",
    "Geographical: City.\n",
    "\n",
    "Based on this the data available is the following:"
   ]
  },
  {
   "cell_type": "markdown",
   "id": "f87dbe79",
   "metadata": {},
   "source": [
    "### Libraries"
   ]
  },
  {
   "cell_type": "code",
   "execution_count": 1,
   "id": "4b3a9791",
   "metadata": {},
   "outputs": [],
   "source": [
    "import numpy as np\n",
    "import pandas as pd\n",
    "import matplotlib.pyplot as plt\n",
    "import AllTogether as t\n",
    "from sklearn.linear_model import LinearRegression\n",
    "from sklearn.model_selection import train_test_split\n",
    "from sklearn.metrics import r2_score, mean_squared_error\n",
    "import seaborn as sns"
   ]
  },
  {
   "cell_type": "markdown",
   "id": "79023102",
   "metadata": {},
   "source": [
    "## Section 2: Data understanding"
   ]
  },
  {
   "cell_type": "code",
   "execution_count": 2,
   "id": "2e76f79f",
   "metadata": {
    "scrolled": true
   },
   "outputs": [
    {
     "data": {
      "text/html": [
       "<div>\n",
       "<style scoped>\n",
       "    .dataframe tbody tr th:only-of-type {\n",
       "        vertical-align: middle;\n",
       "    }\n",
       "\n",
       "    .dataframe tbody tr th {\n",
       "        vertical-align: top;\n",
       "    }\n",
       "\n",
       "    .dataframe thead th {\n",
       "        text-align: right;\n",
       "    }\n",
       "</style>\n",
       "<table border=\"1\" class=\"dataframe\">\n",
       "  <thead>\n",
       "    <tr style=\"text-align: right;\">\n",
       "      <th></th>\n",
       "      <th>edad_cliente</th>\n",
       "      <th>departamento_correspondencia</th>\n",
       "      <th>cr_hipotecario</th>\n",
       "      <th>dafuturo</th>\n",
       "      <th>cdt</th>\n",
       "      <th>fond</th>\n",
       "      <th>ingreso_2</th>\n",
       "      <th>act_laboral_general</th>\n",
       "      <th>acierta_plus</th>\n",
       "      <th>categoria_gasto</th>\n",
       "      <th>categoria_ahorro</th>\n",
       "      <th>categoria_credito</th>\n",
       "      <th>madurez_financiera</th>\n",
       "      <th>open_rate</th>\n",
       "      <th>quanto</th>\n",
       "      <th>con_gusto_agrupado</th>\n",
       "      <th>con_digital_d</th>\n",
       "    </tr>\n",
       "  </thead>\n",
       "  <tbody>\n",
       "    <tr>\n",
       "      <th>0</th>\n",
       "      <td>18</td>\n",
       "      <td>BOGOTA, D.C.</td>\n",
       "      <td>0</td>\n",
       "      <td>0</td>\n",
       "      <td>0</td>\n",
       "      <td>0</td>\n",
       "      <td>908526</td>\n",
       "      <td>NaN</td>\n",
       "      <td>\\N</td>\n",
       "      <td>\\N</td>\n",
       "      <td>\\N</td>\n",
       "      <td>\\N</td>\n",
       "      <td>0</td>\n",
       "      <td>NaN</td>\n",
       "      <td>\\N</td>\n",
       "      <td>sin_informacion</td>\n",
       "      <td>No_digital</td>\n",
       "    </tr>\n",
       "    <tr>\n",
       "      <th>1</th>\n",
       "      <td>24</td>\n",
       "      <td>NaN</td>\n",
       "      <td>0</td>\n",
       "      <td>0</td>\n",
       "      <td>0</td>\n",
       "      <td>0</td>\n",
       "      <td>\\N</td>\n",
       "      <td>NaN</td>\n",
       "      <td>1</td>\n",
       "      <td>\\N</td>\n",
       "      <td>\\N</td>\n",
       "      <td>\\N</td>\n",
       "      <td>0</td>\n",
       "      <td>NaN</td>\n",
       "      <td>1135</td>\n",
       "      <td>sin_informacion</td>\n",
       "      <td>No_digital</td>\n",
       "    </tr>\n",
       "    <tr>\n",
       "      <th>2</th>\n",
       "      <td>18</td>\n",
       "      <td>NaN</td>\n",
       "      <td>0</td>\n",
       "      <td>0</td>\n",
       "      <td>0</td>\n",
       "      <td>0</td>\n",
       "      <td>\\N</td>\n",
       "      <td>NaN</td>\n",
       "      <td>0</td>\n",
       "      <td>\\N</td>\n",
       "      <td>\\N</td>\n",
       "      <td>\\N</td>\n",
       "      <td>0</td>\n",
       "      <td>NaN</td>\n",
       "      <td>1299</td>\n",
       "      <td>sin_informacion</td>\n",
       "      <td>No_digital</td>\n",
       "    </tr>\n",
       "    <tr>\n",
       "      <th>3</th>\n",
       "      <td>19</td>\n",
       "      <td>VALLE DEL CAUCA</td>\n",
       "      <td>0</td>\n",
       "      <td>0</td>\n",
       "      <td>0</td>\n",
       "      <td>0</td>\n",
       "      <td>\\N</td>\n",
       "      <td>NaN</td>\n",
       "      <td>733</td>\n",
       "      <td>\\N</td>\n",
       "      <td>\\N</td>\n",
       "      <td>\\N</td>\n",
       "      <td>0</td>\n",
       "      <td>NaN</td>\n",
       "      <td>1281</td>\n",
       "      <td>sin_informacion</td>\n",
       "      <td>No_digital</td>\n",
       "    </tr>\n",
       "    <tr>\n",
       "      <th>4</th>\n",
       "      <td>26</td>\n",
       "      <td>BOGOTA, D.C.</td>\n",
       "      <td>0</td>\n",
       "      <td>0</td>\n",
       "      <td>0</td>\n",
       "      <td>0</td>\n",
       "      <td>1149212</td>\n",
       "      <td>EMPLEADO</td>\n",
       "      <td>150</td>\n",
       "      <td>\\N</td>\n",
       "      <td>\\N</td>\n",
       "      <td>\\N</td>\n",
       "      <td>0</td>\n",
       "      <td>NaN</td>\n",
       "      <td>1853</td>\n",
       "      <td>sin_informacion</td>\n",
       "      <td>No_digital</td>\n",
       "    </tr>\n",
       "  </tbody>\n",
       "</table>\n",
       "</div>"
      ],
      "text/plain": [
       "   edad_cliente departamento_correspondencia  cr_hipotecario  dafuturo  cdt  \\\n",
       "0            18                 BOGOTA, D.C.               0         0    0   \n",
       "1            24                          NaN               0         0    0   \n",
       "2            18                          NaN               0         0    0   \n",
       "3            19              VALLE DEL CAUCA               0         0    0   \n",
       "4            26                 BOGOTA, D.C.               0         0    0   \n",
       "\n",
       "   fond ingreso_2 act_laboral_general acierta_plus categoria_gasto  \\\n",
       "0     0    908526                 NaN           \\N              \\N   \n",
       "1     0        \\N                 NaN            1              \\N   \n",
       "2     0        \\N                 NaN            0              \\N   \n",
       "3     0        \\N                 NaN          733              \\N   \n",
       "4     0   1149212            EMPLEADO          150              \\N   \n",
       "\n",
       "  categoria_ahorro categoria_credito  madurez_financiera  open_rate quanto  \\\n",
       "0               \\N                \\N                   0        NaN     \\N   \n",
       "1               \\N                \\N                   0        NaN   1135   \n",
       "2               \\N                \\N                   0        NaN   1299   \n",
       "3               \\N                \\N                   0        NaN   1281   \n",
       "4               \\N                \\N                   0        NaN   1853   \n",
       "\n",
       "  con_gusto_agrupado con_digital_d  \n",
       "0    sin_informacion    No_digital  \n",
       "1    sin_informacion    No_digital  \n",
       "2    sin_informacion    No_digital  \n",
       "3    sin_informacion    No_digital  \n",
       "4    sin_informacion    No_digital  "
      ]
     },
     "execution_count": 2,
     "metadata": {},
     "output_type": "execute_result"
    }
   ],
   "source": [
    "#Loads data and assess its content \n",
    "df = pd.read_csv(\"df_ds.csv\", sep=',')\n",
    "df.head()"
   ]
  },
  {
   "cell_type": "code",
   "execution_count": 3,
   "id": "ac26dd47",
   "metadata": {},
   "outputs": [
    {
     "data": {
      "text/plain": [
       "edad_cliente                      int64\n",
       "departamento_correspondencia     object\n",
       "cr_hipotecario                    int64\n",
       "dafuturo                          int64\n",
       "cdt                               int64\n",
       "fond                              int64\n",
       "ingreso_2                        object\n",
       "act_laboral_general              object\n",
       "acierta_plus                     object\n",
       "categoria_gasto                  object\n",
       "categoria_ahorro                 object\n",
       "categoria_credito                object\n",
       "madurez_financiera                int64\n",
       "open_rate                       float64\n",
       "quanto                           object\n",
       "con_gusto_agrupado               object\n",
       "con_digital_d                    object\n",
       "dtype: object"
      ]
     },
     "execution_count": 3,
     "metadata": {},
     "output_type": "execute_result"
    }
   ],
   "source": [
    "#looks at different types of data contained\n",
    "df.dtypes"
   ]
  },
  {
   "cell_type": "code",
   "execution_count": 4,
   "id": "d476e6ad",
   "metadata": {},
   "outputs": [
    {
     "data": {
      "text/plain": [
       "(20000, 17)"
      ]
     },
     "execution_count": 4,
     "metadata": {},
     "output_type": "execute_result"
    }
   ],
   "source": [
    "#Check the dimensions of the data set\n",
    "df.shape"
   ]
  },
  {
   "cell_type": "code",
   "execution_count": 5,
   "id": "6d4454a6",
   "metadata": {},
   "outputs": [
    {
     "data": {
      "text/html": [
       "<div>\n",
       "<style scoped>\n",
       "    .dataframe tbody tr th:only-of-type {\n",
       "        vertical-align: middle;\n",
       "    }\n",
       "\n",
       "    .dataframe tbody tr th {\n",
       "        vertical-align: top;\n",
       "    }\n",
       "\n",
       "    .dataframe thead th {\n",
       "        text-align: right;\n",
       "    }\n",
       "</style>\n",
       "<table border=\"1\" class=\"dataframe\">\n",
       "  <thead>\n",
       "    <tr style=\"text-align: right;\">\n",
       "      <th></th>\n",
       "      <th>index</th>\n",
       "      <th>count</th>\n",
       "      <th>unique</th>\n",
       "      <th>top</th>\n",
       "      <th>freq</th>\n",
       "      <th>mean</th>\n",
       "      <th>std</th>\n",
       "      <th>min</th>\n",
       "      <th>25%</th>\n",
       "      <th>50%</th>\n",
       "      <th>75%</th>\n",
       "      <th>max</th>\n",
       "    </tr>\n",
       "  </thead>\n",
       "  <tbody>\n",
       "    <tr>\n",
       "      <th>0</th>\n",
       "      <td>edad_cliente</td>\n",
       "      <td>20000.0</td>\n",
       "      <td>NaN</td>\n",
       "      <td>NaN</td>\n",
       "      <td>NaN</td>\n",
       "      <td>24.9992</td>\n",
       "      <td>3.429488</td>\n",
       "      <td>18.0</td>\n",
       "      <td>22.0</td>\n",
       "      <td>25.0</td>\n",
       "      <td>28.0</td>\n",
       "      <td>30.0</td>\n",
       "    </tr>\n",
       "    <tr>\n",
       "      <th>1</th>\n",
       "      <td>departamento_correspondencia</td>\n",
       "      <td>12609</td>\n",
       "      <td>36</td>\n",
       "      <td>BOGOTA, D.C.</td>\n",
       "      <td>2991</td>\n",
       "      <td>NaN</td>\n",
       "      <td>NaN</td>\n",
       "      <td>NaN</td>\n",
       "      <td>NaN</td>\n",
       "      <td>NaN</td>\n",
       "      <td>NaN</td>\n",
       "      <td>NaN</td>\n",
       "    </tr>\n",
       "    <tr>\n",
       "      <th>2</th>\n",
       "      <td>cr_hipotecario</td>\n",
       "      <td>20000.0</td>\n",
       "      <td>NaN</td>\n",
       "      <td>NaN</td>\n",
       "      <td>NaN</td>\n",
       "      <td>0.0059</td>\n",
       "      <td>0.076586</td>\n",
       "      <td>0.0</td>\n",
       "      <td>0.0</td>\n",
       "      <td>0.0</td>\n",
       "      <td>0.0</td>\n",
       "      <td>1.0</td>\n",
       "    </tr>\n",
       "    <tr>\n",
       "      <th>3</th>\n",
       "      <td>dafuturo</td>\n",
       "      <td>20000.0</td>\n",
       "      <td>NaN</td>\n",
       "      <td>NaN</td>\n",
       "      <td>NaN</td>\n",
       "      <td>0.0029</td>\n",
       "      <td>0.053775</td>\n",
       "      <td>0.0</td>\n",
       "      <td>0.0</td>\n",
       "      <td>0.0</td>\n",
       "      <td>0.0</td>\n",
       "      <td>1.0</td>\n",
       "    </tr>\n",
       "    <tr>\n",
       "      <th>4</th>\n",
       "      <td>cdt</td>\n",
       "      <td>20000.0</td>\n",
       "      <td>NaN</td>\n",
       "      <td>NaN</td>\n",
       "      <td>NaN</td>\n",
       "      <td>0.0019</td>\n",
       "      <td>0.043549</td>\n",
       "      <td>0.0</td>\n",
       "      <td>0.0</td>\n",
       "      <td>0.0</td>\n",
       "      <td>0.0</td>\n",
       "      <td>1.0</td>\n",
       "    </tr>\n",
       "    <tr>\n",
       "      <th>5</th>\n",
       "      <td>fond</td>\n",
       "      <td>20000.0</td>\n",
       "      <td>NaN</td>\n",
       "      <td>NaN</td>\n",
       "      <td>NaN</td>\n",
       "      <td>0.0073</td>\n",
       "      <td>0.08513</td>\n",
       "      <td>0.0</td>\n",
       "      <td>0.0</td>\n",
       "      <td>0.0</td>\n",
       "      <td>0.0</td>\n",
       "      <td>1.0</td>\n",
       "    </tr>\n",
       "    <tr>\n",
       "      <th>6</th>\n",
       "      <td>ingreso_2</td>\n",
       "      <td>20000</td>\n",
       "      <td>3935</td>\n",
       "      <td>\\N</td>\n",
       "      <td>12164</td>\n",
       "      <td>NaN</td>\n",
       "      <td>NaN</td>\n",
       "      <td>NaN</td>\n",
       "      <td>NaN</td>\n",
       "      <td>NaN</td>\n",
       "      <td>NaN</td>\n",
       "      <td>NaN</td>\n",
       "    </tr>\n",
       "    <tr>\n",
       "      <th>7</th>\n",
       "      <td>act_laboral_general</td>\n",
       "      <td>7674</td>\n",
       "      <td>8</td>\n",
       "      <td>EMPLEADO</td>\n",
       "      <td>5593</td>\n",
       "      <td>NaN</td>\n",
       "      <td>NaN</td>\n",
       "      <td>NaN</td>\n",
       "      <td>NaN</td>\n",
       "      <td>NaN</td>\n",
       "      <td>NaN</td>\n",
       "      <td>NaN</td>\n",
       "    </tr>\n",
       "    <tr>\n",
       "      <th>8</th>\n",
       "      <td>acierta_plus</td>\n",
       "      <td>20000</td>\n",
       "      <td>734</td>\n",
       "      <td>0</td>\n",
       "      <td>3510</td>\n",
       "      <td>NaN</td>\n",
       "      <td>NaN</td>\n",
       "      <td>NaN</td>\n",
       "      <td>NaN</td>\n",
       "      <td>NaN</td>\n",
       "      <td>NaN</td>\n",
       "      <td>NaN</td>\n",
       "    </tr>\n",
       "    <tr>\n",
       "      <th>9</th>\n",
       "      <td>categoria_gasto</td>\n",
       "      <td>19342</td>\n",
       "      <td>4</td>\n",
       "      <td>\\N</td>\n",
       "      <td>16804</td>\n",
       "      <td>NaN</td>\n",
       "      <td>NaN</td>\n",
       "      <td>NaN</td>\n",
       "      <td>NaN</td>\n",
       "      <td>NaN</td>\n",
       "      <td>NaN</td>\n",
       "      <td>NaN</td>\n",
       "    </tr>\n",
       "    <tr>\n",
       "      <th>10</th>\n",
       "      <td>categoria_ahorro</td>\n",
       "      <td>19448</td>\n",
       "      <td>4</td>\n",
       "      <td>\\N</td>\n",
       "      <td>16804</td>\n",
       "      <td>NaN</td>\n",
       "      <td>NaN</td>\n",
       "      <td>NaN</td>\n",
       "      <td>NaN</td>\n",
       "      <td>NaN</td>\n",
       "      <td>NaN</td>\n",
       "      <td>NaN</td>\n",
       "    </tr>\n",
       "    <tr>\n",
       "      <th>11</th>\n",
       "      <td>categoria_credito</td>\n",
       "      <td>18402</td>\n",
       "      <td>4</td>\n",
       "      <td>\\N</td>\n",
       "      <td>16804</td>\n",
       "      <td>NaN</td>\n",
       "      <td>NaN</td>\n",
       "      <td>NaN</td>\n",
       "      <td>NaN</td>\n",
       "      <td>NaN</td>\n",
       "      <td>NaN</td>\n",
       "      <td>NaN</td>\n",
       "    </tr>\n",
       "    <tr>\n",
       "      <th>12</th>\n",
       "      <td>madurez_financiera</td>\n",
       "      <td>20000.0</td>\n",
       "      <td>NaN</td>\n",
       "      <td>NaN</td>\n",
       "      <td>NaN</td>\n",
       "      <td>0.2234</td>\n",
       "      <td>0.416535</td>\n",
       "      <td>0.0</td>\n",
       "      <td>0.0</td>\n",
       "      <td>0.0</td>\n",
       "      <td>0.0</td>\n",
       "      <td>1.0</td>\n",
       "    </tr>\n",
       "    <tr>\n",
       "      <th>13</th>\n",
       "      <td>open_rate</td>\n",
       "      <td>7471.0</td>\n",
       "      <td>NaN</td>\n",
       "      <td>NaN</td>\n",
       "      <td>NaN</td>\n",
       "      <td>0.089862</td>\n",
       "      <td>0.181244</td>\n",
       "      <td>0.0</td>\n",
       "      <td>0.0</td>\n",
       "      <td>0.01</td>\n",
       "      <td>0.09</td>\n",
       "      <td>1.0</td>\n",
       "    </tr>\n",
       "    <tr>\n",
       "      <th>14</th>\n",
       "      <td>quanto</td>\n",
       "      <td>20000</td>\n",
       "      <td>571</td>\n",
       "      <td>1244</td>\n",
       "      <td>939</td>\n",
       "      <td>NaN</td>\n",
       "      <td>NaN</td>\n",
       "      <td>NaN</td>\n",
       "      <td>NaN</td>\n",
       "      <td>NaN</td>\n",
       "      <td>NaN</td>\n",
       "      <td>NaN</td>\n",
       "    </tr>\n",
       "    <tr>\n",
       "      <th>15</th>\n",
       "      <td>con_gusto_agrupado</td>\n",
       "      <td>19191</td>\n",
       "      <td>12</td>\n",
       "      <td>sin_informacion</td>\n",
       "      <td>18297</td>\n",
       "      <td>NaN</td>\n",
       "      <td>NaN</td>\n",
       "      <td>NaN</td>\n",
       "      <td>NaN</td>\n",
       "      <td>NaN</td>\n",
       "      <td>NaN</td>\n",
       "      <td>NaN</td>\n",
       "    </tr>\n",
       "    <tr>\n",
       "      <th>16</th>\n",
       "      <td>con_digital_d</td>\n",
       "      <td>19987</td>\n",
       "      <td>2</td>\n",
       "      <td>No_digital</td>\n",
       "      <td>16545</td>\n",
       "      <td>NaN</td>\n",
       "      <td>NaN</td>\n",
       "      <td>NaN</td>\n",
       "      <td>NaN</td>\n",
       "      <td>NaN</td>\n",
       "      <td>NaN</td>\n",
       "      <td>NaN</td>\n",
       "    </tr>\n",
       "  </tbody>\n",
       "</table>\n",
       "</div>"
      ],
      "text/plain": [
       "                           index    count unique              top   freq  \\\n",
       "0                   edad_cliente  20000.0    NaN              NaN    NaN   \n",
       "1   departamento_correspondencia    12609     36     BOGOTA, D.C.   2991   \n",
       "2                 cr_hipotecario  20000.0    NaN              NaN    NaN   \n",
       "3                       dafuturo  20000.0    NaN              NaN    NaN   \n",
       "4                            cdt  20000.0    NaN              NaN    NaN   \n",
       "5                           fond  20000.0    NaN              NaN    NaN   \n",
       "6                      ingreso_2    20000   3935               \\N  12164   \n",
       "7            act_laboral_general     7674      8         EMPLEADO   5593   \n",
       "8                   acierta_plus    20000    734                0   3510   \n",
       "9                categoria_gasto    19342      4               \\N  16804   \n",
       "10              categoria_ahorro    19448      4               \\N  16804   \n",
       "11             categoria_credito    18402      4               \\N  16804   \n",
       "12            madurez_financiera  20000.0    NaN              NaN    NaN   \n",
       "13                     open_rate   7471.0    NaN              NaN    NaN   \n",
       "14                        quanto    20000    571             1244    939   \n",
       "15            con_gusto_agrupado    19191     12  sin_informacion  18297   \n",
       "16                 con_digital_d    19987      2       No_digital  16545   \n",
       "\n",
       "        mean       std   min   25%   50%   75%   max  \n",
       "0    24.9992  3.429488  18.0  22.0  25.0  28.0  30.0  \n",
       "1        NaN       NaN   NaN   NaN   NaN   NaN   NaN  \n",
       "2     0.0059  0.076586   0.0   0.0   0.0   0.0   1.0  \n",
       "3     0.0029  0.053775   0.0   0.0   0.0   0.0   1.0  \n",
       "4     0.0019  0.043549   0.0   0.0   0.0   0.0   1.0  \n",
       "5     0.0073   0.08513   0.0   0.0   0.0   0.0   1.0  \n",
       "6        NaN       NaN   NaN   NaN   NaN   NaN   NaN  \n",
       "7        NaN       NaN   NaN   NaN   NaN   NaN   NaN  \n",
       "8        NaN       NaN   NaN   NaN   NaN   NaN   NaN  \n",
       "9        NaN       NaN   NaN   NaN   NaN   NaN   NaN  \n",
       "10       NaN       NaN   NaN   NaN   NaN   NaN   NaN  \n",
       "11       NaN       NaN   NaN   NaN   NaN   NaN   NaN  \n",
       "12    0.2234  0.416535   0.0   0.0   0.0   0.0   1.0  \n",
       "13  0.089862  0.181244   0.0   0.0  0.01  0.09   1.0  \n",
       "14       NaN       NaN   NaN   NaN   NaN   NaN   NaN  \n",
       "15       NaN       NaN   NaN   NaN   NaN   NaN   NaN  \n",
       "16       NaN       NaN   NaN   NaN   NaN   NaN   NaN  "
      ]
     },
     "execution_count": 5,
     "metadata": {},
     "output_type": "execute_result"
    }
   ],
   "source": [
    "#Full data describe, here I can check for missing and data patterns with a single table\n",
    "df.describe(include='all').T.reset_index()"
   ]
  },
  {
   "cell_type": "markdown",
   "id": "8909b1d6",
   "metadata": {},
   "source": [
    "There are some strange characters \"\\N\" that should be removed. Also for categorical values its important to remove NAs and turn them into a specific text in order to use them as dummy variables."
   ]
  },
  {
   "cell_type": "markdown",
   "id": "54f769c3",
   "metadata": {},
   "source": [
    "## Section 3: Data prepare"
   ]
  },
  {
   "cell_type": "markdown",
   "id": "56bd1898",
   "metadata": {},
   "source": [
    "Cleaning functions"
   ]
  },
  {
   "cell_type": "code",
   "execution_count": 11,
   "id": "77f97034",
   "metadata": {},
   "outputs": [],
   "source": [
    "# Remove \"N\"s characters from all features. Input (df)\n",
    "def remove_blanks(df):\n",
    "    r\"\"\"\n",
    "    Remove string \"\\N\" from all columns in a dataframe.\n",
    "  \n",
    "    Parameters:\n",
    "    df: Any pandas dataframe\n",
    "  \n",
    "    Returns:\n",
    "    df: the same dataframe with \"\\Ns removed\"\n",
    "    \"\"\"\n",
    "    df.fillna(np.nan,inplace=True)\n",
    "    df = df.applymap(lambda col: np.nan if col == \"\\\\N\" else col)\n",
    "    return df\n",
    "\n",
    "#def nans_to_mode(df):\n"
   ]
  },
  {
   "cell_type": "code",
   "execution_count": 12,
   "id": "a0d82ea2",
   "metadata": {},
   "outputs": [],
   "source": [
    "df = remove_blanks(df)"
   ]
  },
  {
   "cell_type": "code",
   "execution_count": 15,
   "id": "8d2edc81",
   "metadata": {},
   "outputs": [],
   "source": [
    "# Fix nans of categorical values, replace them with \"sin_informacion\". \n",
    "# This is necesary in order to be able to turn missing information into a dummy\n",
    "# variable which I suspect could have a great relation with the open rate.\n",
    "df[\"categoria_gasto\"].fillna(\"sin_informacion\", inplace=True)\n",
    "df[\"categoria_ahorro\"].fillna(\"sin_informacion\", inplace=True)\n",
    "df[\"categoria_credito\"].fillna(\"sin_informacion\", inplace=True)\n",
    "df[\"act_laboral_general\"].fillna(\"sin_informacion\", inplace=True)\n",
    "df[\"departamento_correspondencia\"].fillna(\"sin_informacion\", inplace=True)\n",
    "df[\"con_gusto_agrupado\"].fillna(\"sin_informacion\", inplace=True)\n",
    "df[\"con_digital_d\"].fillna(\"sin_informacion\", inplace=True)"
   ]
  },
  {
   "cell_type": "code",
   "execution_count": 16,
   "id": "d158858d",
   "metadata": {},
   "outputs": [],
   "source": [
    "# Fix numerical columns, nans need to be filled with mode is the best statistic to describe left skewed with posible outliers data.\n",
    "df['ingreso_2'].fillna(int(df['ingreso_2'].mode()), inplace=True)\n",
    "df['acierta_plus'].fillna(int(df['acierta_plus'].mode()), inplace=True)\n",
    "df['quanto'].fillna(int(df['quanto'].mode()), inplace=True)\n",
    "\n",
    "# Change these column types to float, because of the text it was stored as a string\n",
    "df['acierta_plus'] = df['acierta_plus'].astype(str).astype(float)\n",
    "df['ingreso_2'] = df['ingreso_2'].astype(str).astype(float)\n",
    "df['quanto'] = df['quanto'].astype(str).astype(float)"
   ]
  },
  {
   "cell_type": "code",
   "execution_count": 17,
   "id": "06705703",
   "metadata": {},
   "outputs": [],
   "source": [
    "# Categorical values to dummies in order to use each categorical data as a factor of the model. \n",
    "cat_vars = df.select_dtypes(include=['object']).copy().columns\n",
    "\n",
    "for var in cat_vars:\n",
    "    df = pd.concat([df.drop(var, axis=1),\n",
    "                    pd.get_dummies(df[var],\n",
    "                                   prefix=var,\n",
    "                                   prefix_sep='_',\n",
    "                                   drop_first=True)], axis=1)\n",
    "del cat_vars, var"
   ]
  },
  {
   "cell_type": "code",
   "execution_count": 18,
   "id": "e8d09c6a",
   "metadata": {},
   "outputs": [
    {
     "data": {
      "text/plain": [
       "edad_cliente                          int64\n",
       "cr_hipotecario                        int64\n",
       "dafuturo                              int64\n",
       "cdt                                   int64\n",
       "fond                                  int64\n",
       "                                      ...  \n",
       "con_gusto_agrupado_Tecnologia         uint8\n",
       "con_gusto_agrupado_Viajes             uint8\n",
       "con_gusto_agrupado_sin_informacion    uint8\n",
       "con_digital_d_No_digital              uint8\n",
       "con_digital_d_sin_informacion         uint8\n",
       "Length: 76, dtype: object"
      ]
     },
     "execution_count": 18,
     "metadata": {},
     "output_type": "execute_result"
    }
   ],
   "source": [
    "# Check for success in dummy variables\n",
    "df.dtypes"
   ]
  },
  {
   "cell_type": "code",
   "execution_count": 19,
   "id": "ee52721d",
   "metadata": {},
   "outputs": [
    {
     "data": {
      "text/html": [
       "<div>\n",
       "<style scoped>\n",
       "    .dataframe tbody tr th:only-of-type {\n",
       "        vertical-align: middle;\n",
       "    }\n",
       "\n",
       "    .dataframe tbody tr th {\n",
       "        vertical-align: top;\n",
       "    }\n",
       "\n",
       "    .dataframe thead th {\n",
       "        text-align: right;\n",
       "    }\n",
       "</style>\n",
       "<table border=\"1\" class=\"dataframe\">\n",
       "  <thead>\n",
       "    <tr style=\"text-align: right;\">\n",
       "      <th></th>\n",
       "      <th>count</th>\n",
       "      <th>mean</th>\n",
       "      <th>std</th>\n",
       "      <th>min</th>\n",
       "      <th>25%</th>\n",
       "      <th>50%</th>\n",
       "      <th>75%</th>\n",
       "      <th>max</th>\n",
       "    </tr>\n",
       "  </thead>\n",
       "  <tbody>\n",
       "    <tr>\n",
       "      <th>edad_cliente</th>\n",
       "      <td>20000.0</td>\n",
       "      <td>24.99920</td>\n",
       "      <td>3.429488</td>\n",
       "      <td>18.0</td>\n",
       "      <td>22.0</td>\n",
       "      <td>25.0</td>\n",
       "      <td>28.0</td>\n",
       "      <td>30.0</td>\n",
       "    </tr>\n",
       "    <tr>\n",
       "      <th>cr_hipotecario</th>\n",
       "      <td>20000.0</td>\n",
       "      <td>0.00590</td>\n",
       "      <td>0.076586</td>\n",
       "      <td>0.0</td>\n",
       "      <td>0.0</td>\n",
       "      <td>0.0</td>\n",
       "      <td>0.0</td>\n",
       "      <td>1.0</td>\n",
       "    </tr>\n",
       "    <tr>\n",
       "      <th>dafuturo</th>\n",
       "      <td>20000.0</td>\n",
       "      <td>0.00290</td>\n",
       "      <td>0.053775</td>\n",
       "      <td>0.0</td>\n",
       "      <td>0.0</td>\n",
       "      <td>0.0</td>\n",
       "      <td>0.0</td>\n",
       "      <td>1.0</td>\n",
       "    </tr>\n",
       "    <tr>\n",
       "      <th>cdt</th>\n",
       "      <td>20000.0</td>\n",
       "      <td>0.00190</td>\n",
       "      <td>0.043549</td>\n",
       "      <td>0.0</td>\n",
       "      <td>0.0</td>\n",
       "      <td>0.0</td>\n",
       "      <td>0.0</td>\n",
       "      <td>1.0</td>\n",
       "    </tr>\n",
       "    <tr>\n",
       "      <th>fond</th>\n",
       "      <td>20000.0</td>\n",
       "      <td>0.00730</td>\n",
       "      <td>0.085130</td>\n",
       "      <td>0.0</td>\n",
       "      <td>0.0</td>\n",
       "      <td>0.0</td>\n",
       "      <td>0.0</td>\n",
       "      <td>1.0</td>\n",
       "    </tr>\n",
       "    <tr>\n",
       "      <th>...</th>\n",
       "      <td>...</td>\n",
       "      <td>...</td>\n",
       "      <td>...</td>\n",
       "      <td>...</td>\n",
       "      <td>...</td>\n",
       "      <td>...</td>\n",
       "      <td>...</td>\n",
       "      <td>...</td>\n",
       "    </tr>\n",
       "    <tr>\n",
       "      <th>con_gusto_agrupado_Tecnologia</th>\n",
       "      <td>20000.0</td>\n",
       "      <td>0.00010</td>\n",
       "      <td>0.010000</td>\n",
       "      <td>0.0</td>\n",
       "      <td>0.0</td>\n",
       "      <td>0.0</td>\n",
       "      <td>0.0</td>\n",
       "      <td>1.0</td>\n",
       "    </tr>\n",
       "    <tr>\n",
       "      <th>con_gusto_agrupado_Viajes</th>\n",
       "      <td>20000.0</td>\n",
       "      <td>0.00220</td>\n",
       "      <td>0.046854</td>\n",
       "      <td>0.0</td>\n",
       "      <td>0.0</td>\n",
       "      <td>0.0</td>\n",
       "      <td>0.0</td>\n",
       "      <td>1.0</td>\n",
       "    </tr>\n",
       "    <tr>\n",
       "      <th>con_gusto_agrupado_sin_informacion</th>\n",
       "      <td>20000.0</td>\n",
       "      <td>0.95530</td>\n",
       "      <td>0.206650</td>\n",
       "      <td>0.0</td>\n",
       "      <td>1.0</td>\n",
       "      <td>1.0</td>\n",
       "      <td>1.0</td>\n",
       "      <td>1.0</td>\n",
       "    </tr>\n",
       "    <tr>\n",
       "      <th>con_digital_d_No_digital</th>\n",
       "      <td>20000.0</td>\n",
       "      <td>0.82725</td>\n",
       "      <td>0.378040</td>\n",
       "      <td>0.0</td>\n",
       "      <td>1.0</td>\n",
       "      <td>1.0</td>\n",
       "      <td>1.0</td>\n",
       "      <td>1.0</td>\n",
       "    </tr>\n",
       "    <tr>\n",
       "      <th>con_digital_d_sin_informacion</th>\n",
       "      <td>20000.0</td>\n",
       "      <td>0.00065</td>\n",
       "      <td>0.025487</td>\n",
       "      <td>0.0</td>\n",
       "      <td>0.0</td>\n",
       "      <td>0.0</td>\n",
       "      <td>0.0</td>\n",
       "      <td>1.0</td>\n",
       "    </tr>\n",
       "  </tbody>\n",
       "</table>\n",
       "<p>76 rows × 8 columns</p>\n",
       "</div>"
      ],
      "text/plain": [
       "                                      count      mean       std   min   25%  \\\n",
       "edad_cliente                        20000.0  24.99920  3.429488  18.0  22.0   \n",
       "cr_hipotecario                      20000.0   0.00590  0.076586   0.0   0.0   \n",
       "dafuturo                            20000.0   0.00290  0.053775   0.0   0.0   \n",
       "cdt                                 20000.0   0.00190  0.043549   0.0   0.0   \n",
       "fond                                20000.0   0.00730  0.085130   0.0   0.0   \n",
       "...                                     ...       ...       ...   ...   ...   \n",
       "con_gusto_agrupado_Tecnologia       20000.0   0.00010  0.010000   0.0   0.0   \n",
       "con_gusto_agrupado_Viajes           20000.0   0.00220  0.046854   0.0   0.0   \n",
       "con_gusto_agrupado_sin_informacion  20000.0   0.95530  0.206650   0.0   1.0   \n",
       "con_digital_d_No_digital            20000.0   0.82725  0.378040   0.0   1.0   \n",
       "con_digital_d_sin_informacion       20000.0   0.00065  0.025487   0.0   0.0   \n",
       "\n",
       "                                     50%   75%   max  \n",
       "edad_cliente                        25.0  28.0  30.0  \n",
       "cr_hipotecario                       0.0   0.0   1.0  \n",
       "dafuturo                             0.0   0.0   1.0  \n",
       "cdt                                  0.0   0.0   1.0  \n",
       "fond                                 0.0   0.0   1.0  \n",
       "...                                  ...   ...   ...  \n",
       "con_gusto_agrupado_Tecnologia        0.0   0.0   1.0  \n",
       "con_gusto_agrupado_Viajes            0.0   0.0   1.0  \n",
       "con_gusto_agrupado_sin_informacion   1.0   1.0   1.0  \n",
       "con_digital_d_No_digital             1.0   1.0   1.0  \n",
       "con_digital_d_sin_informacion        0.0   0.0   1.0  \n",
       "\n",
       "[76 rows x 8 columns]"
      ]
     },
     "execution_count": 19,
     "metadata": {},
     "output_type": "execute_result"
    }
   ],
   "source": [
    "# Evaluating that all columns have their missing values filled.\n",
    "df.describe(include='all').T"
   ]
  },
  {
   "cell_type": "markdown",
   "id": "3a17d641",
   "metadata": {},
   "source": [
    "##  Section 4: Evaluation"
   ]
  },
  {
   "cell_type": "markdown",
   "id": "ef2a08d2",
   "metadata": {},
   "source": [
    "#### Question 2: How does the open rate of emails behave in young clients, 18 to 30 years old?"
   ]
  },
  {
   "cell_type": "markdown",
   "id": "f7e0d16d",
   "metadata": {},
   "source": [
    "A great way of describing and visualizating data is through histograms, for open rates the results are the following:"
   ]
  },
  {
   "cell_type": "code",
   "execution_count": 20,
   "id": "5c50b439",
   "metadata": {},
   "outputs": [
    {
     "data": {
      "text/plain": [
       "<AxesSubplot:>"
      ]
     },
     "execution_count": 20,
     "metadata": {},
     "output_type": "execute_result"
    },
    {
     "data": {
      "image/png": "[encoded data removed]",
      "text/plain": [
       "<Figure size 432x288 with 1 Axes>"
      ]
     },
     "metadata": {
      "needs_background": "light"
     },
     "output_type": "display_data"
    }
   ],
   "source": [
    "#Graph histogram\n",
    "df.open_rate.hist()"
   ]
  },
  {
   "cell_type": "markdown",
   "id": "3beceec6",
   "metadata": {},
   "source": [
    "Descriptive statistics are also great for analyzing this feature."
   ]
  },
  {
   "cell_type": "code",
   "execution_count": 22,
   "id": "10bc13b8",
   "metadata": {},
   "outputs": [
    {
     "data": {
      "text/html": [
       "<div>\n",
       "<style scoped>\n",
       "    .dataframe tbody tr th:only-of-type {\n",
       "        vertical-align: middle;\n",
       "    }\n",
       "\n",
       "    .dataframe tbody tr th {\n",
       "        vertical-align: top;\n",
       "    }\n",
       "\n",
       "    .dataframe thead th {\n",
       "        text-align: right;\n",
       "    }\n",
       "</style>\n",
       "<table border=\"1\" class=\"dataframe\">\n",
       "  <thead>\n",
       "    <tr style=\"text-align: right;\">\n",
       "      <th></th>\n",
       "      <th>index</th>\n",
       "      <th>open_rate</th>\n",
       "    </tr>\n",
       "  </thead>\n",
       "  <tbody>\n",
       "    <tr>\n",
       "      <th>0</th>\n",
       "      <td>count</td>\n",
       "      <td>7471.000000</td>\n",
       "    </tr>\n",
       "    <tr>\n",
       "      <th>1</th>\n",
       "      <td>mean</td>\n",
       "      <td>0.089862</td>\n",
       "    </tr>\n",
       "    <tr>\n",
       "      <th>2</th>\n",
       "      <td>std</td>\n",
       "      <td>0.181244</td>\n",
       "    </tr>\n",
       "    <tr>\n",
       "      <th>3</th>\n",
       "      <td>min</td>\n",
       "      <td>0.000000</td>\n",
       "    </tr>\n",
       "    <tr>\n",
       "      <th>4</th>\n",
       "      <td>25%</td>\n",
       "      <td>0.000000</td>\n",
       "    </tr>\n",
       "    <tr>\n",
       "      <th>5</th>\n",
       "      <td>50%</td>\n",
       "      <td>0.010000</td>\n",
       "    </tr>\n",
       "    <tr>\n",
       "      <th>6</th>\n",
       "      <td>75%</td>\n",
       "      <td>0.090000</td>\n",
       "    </tr>\n",
       "    <tr>\n",
       "      <th>7</th>\n",
       "      <td>max</td>\n",
       "      <td>1.000000</td>\n",
       "    </tr>\n",
       "  </tbody>\n",
       "</table>\n",
       "</div>"
      ],
      "text/plain": [
       "   index    open_rate\n",
       "0  count  7471.000000\n",
       "1   mean     0.089862\n",
       "2    std     0.181244\n",
       "3    min     0.000000\n",
       "4    25%     0.000000\n",
       "5    50%     0.010000\n",
       "6    75%     0.090000\n",
       "7    max     1.000000"
      ]
     },
     "execution_count": 22,
     "metadata": {},
     "output_type": "execute_result"
    }
   ],
   "source": [
    "# Descritive statistics formula used on open rate variable\n",
    "df.open_rate.describe(include='all').T.reset_index()"
   ]
  },
  {
   "cell_type": "markdown",
   "id": "d248d3c0",
   "metadata": {},
   "source": [
    "This visualitations allow me to understand that open_rate distribution is skewed to the left and from the descriptive statistics we are able to udnerstand its mean is 9% but it has significant standard deviation of 18%"
   ]
  },
  {
   "cell_type": "markdown",
   "id": "3a15473e",
   "metadata": {},
   "source": [
    "#### 3. Is a multivariate regression model based on the variables identified an acceptable model to predict open rate?"
   ]
  },
  {
   "cell_type": "markdown",
   "id": "918ebeff",
   "metadata": {},
   "source": [
    "In order to answer the business question, I will make a multivariate regresion.To prove its efficiency I'll split the data set in a training set and a test set. Then I'll check the results by using the r^2 and if its necesary I'll try to optimze the features selection."
   ]
  },
  {
   "cell_type": "code",
   "execution_count": 23,
   "id": "39519c8c",
   "metadata": {},
   "outputs": [],
   "source": [
    "# Filter for model set\n",
    "df = df.dropna(subset=['open_rate'], axis=0)"
   ]
  },
  {
   "cell_type": "code",
   "execution_count": 24,
   "id": "c4c748bc",
   "metadata": {},
   "outputs": [
    {
     "name": "stderr",
     "output_type": "stream",
     "text": [
      "C:\\ProgramData\\Anaconda3\\lib\\site-packages\\ipykernel_launcher.py:3: FutureWarning: In a future version of pandas all arguments of DataFrame.drop except for the argument 'labels' will be keyword-only\n",
      "  This is separate from the ipykernel package so we can avoid doing imports until\n"
     ]
    }
   ],
   "source": [
    "#Split data in the dependent and independent variables\n",
    "y = df['open_rate']\n",
    "x = df.drop(['open_rate'], 1)"
   ]
  },
  {
   "cell_type": "code",
   "execution_count": 25,
   "id": "f498f18c",
   "metadata": {},
   "outputs": [],
   "source": [
    "#Split data into training set and test set and initiate de lm_model using the LinearRegression function.\n",
    "x_train, x_test, y_train, y_test = train_test_split(x, y, test_size=.30, random_state=42)\n",
    "lm_model = LinearRegression(normalize=True) \n",
    "lm_model.fit(x_train, y_train)\n",
    "#Try the model in the test set\n",
    "y_test_preds = lm_model.predict(x_test)"
   ]
  },
  {
   "cell_type": "markdown",
   "id": "6bfacf30",
   "metadata": {},
   "source": [
    "##### Evaluate"
   ]
  },
  {
   "cell_type": "code",
   "execution_count": 26,
   "id": "b91fcdde",
   "metadata": {},
   "outputs": [
    {
     "data": {
      "text/plain": [
       "'r-squared score was 0.011686980776914546 on 2242 values.'"
      ]
     },
     "execution_count": 26,
     "metadata": {},
     "output_type": "execute_result"
    }
   ],
   "source": [
    "#Calculate the r^2 of the test set.\n",
    "\"r-squared score was {} on {} values.\".format(r2_score(y_test,y_test_preds),len(y_test))"
   ]
  },
  {
   "cell_type": "markdown",
   "id": "06590006",
   "metadata": {},
   "source": [
    "##### Re model and evaluation"
   ]
  },
  {
   "cell_type": "code",
   "execution_count": 27,
   "id": "e83cab59",
   "metadata": {},
   "outputs": [
    {
     "data": {
      "image/png": "[encoded data removed]",
      "text/plain": [
       "<Figure size 432x288 with 1 Axes>"
      ]
     },
     "metadata": {
      "needs_background": "light"
     },
     "output_type": "display_data"
    },
    {
     "name": "stdout",
     "output_type": "stream",
     "text": [
      "17\n",
      "0.021169683116173954\n",
      "0.02655591990745887\n"
     ]
    }
   ],
   "source": [
    "# Model optimization using a technique that make diferent regresions with diferent cutoffs\n",
    "cutoffs = [10000, 50000, 35000, 25000, 10000, 1000, 500, 300, 250, 50]\n",
    "\n",
    "r2_scores_test, r2_scores_train, lm_model, x_train, x_test, y_train, y_test = t.find_optimal_lm_mod(x, y, cutoffs)\n",
    "\n",
    "print(x_train.shape[1])  # Number of columns\n",
    "print(r2_scores_test[np.argmax(r2_scores_test)])  # The model we should implement test_r2\n",
    "print(r2_scores_train[np.argmax(r2_scores_test)])  # The model we should implement train_r2\n"
   ]
  },
  {
   "cell_type": "markdown",
   "id": "68c10dab",
   "metadata": {},
   "source": [
    "The r^2 is too low to use this model in production, it's recomended to look for other models in order to get a better fit. Which is the conclusion of this project, random forest is a suggestion that should be evaluated."
   ]
  }
 ],
 "metadata": {
  "kernelspec": {
   "display_name": "Python 3",
   "language": "python",
   "name": "python3"
  },
  "language_info": {
   "codemirror_mode": {
    "name": "ipython",
    "version": 3
   },
   "file_extension": ".py",
   "mimetype": "text/x-python",
   "name": "python",
   "nbconvert_exporter": "python",
   "pygments_lexer": "ipython3",
   "version": "3.7.11"
  }
 },
 "nbformat": 4,
 "nbformat_minor": 5
}
